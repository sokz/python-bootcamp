{
 "cells": [
  {
   "cell_type": "markdown",
   "metadata": {},
   "source": [
    "# *def* keyword\n",
    "\n",
    "* Creating a function requires a very specific syntax, including the *def* keyword, correct indentation and proper structure"
   ]
  },
  {
   "cell_type": "markdown",
   "metadata": {},
   "source": [
    "\n",
    "Syntax of the function\n",
    "```\n",
    "def name_of_function():\n",
    "    '''\n",
    "        Docstring explains function.\n",
    "    '''\n",
    "\n",
    "    print(\"Hello\")\n",
    "```\n",
    "\n",
    "\n",
    "\n",
    "\n"
   ]
  },
  {
   "cell_type": "code",
   "execution_count": 4,
   "metadata": {},
   "outputs": [
    {
     "name": "stdout",
     "output_type": "stream",
     "text": [
      "Hello\n"
     ]
    }
   ],
   "source": [
    "def name_of_function():\n",
    "    print(\"Hello\")\n",
    "\n",
    "name_of_function()"
   ]
  },
  {
   "cell_type": "code",
   "execution_count": 6,
   "metadata": {},
   "outputs": [
    {
     "name": "stdout",
     "output_type": "stream",
     "text": [
      "Hello John\n"
     ]
    }
   ],
   "source": [
    "def name_of_function(name):\n",
    "    print(\"Hello \" + name)\n",
    "name_of_function(\"John\")"
   ]
  },
  {
   "cell_type": "markdown",
   "metadata": {},
   "source": [
    "Functions can accept arguments to be passed by the user.\n",
    "* Typically we use *return* keyword to send back the result of the function, instead of just printing it out.\n",
    "* *return* allows us to assign the output of the function to a new variable."
   ]
  },
  {
   "cell_type": "code",
   "execution_count": 1,
   "metadata": {},
   "outputs": [
    {
     "name": "stdout",
     "output_type": "stream",
     "text": [
      "3\n"
     ]
    }
   ],
   "source": [
    "def add_function(num1, num2):\n",
    "    return num1 + num2\n",
    "result = add_function(1, 2)\n",
    "print(result)"
   ]
  },
  {
   "cell_type": "markdown",
   "metadata": {},
   "source": [
    "Most functions will use *return*. Rarely will a function only `print()`"
   ]
  }
 ],
 "metadata": {
  "interpreter": {
   "hash": "c3cb1dd373ca4450157e6f8978f97933cc3a7cdc0a8066204e60afd9526c388d"
  },
  "kernelspec": {
   "display_name": "Python 3.10.4 64-bit",
   "language": "python",
   "name": "python3"
  },
  "language_info": {
   "codemirror_mode": {
    "name": "ipython",
    "version": 3
   },
   "file_extension": ".py",
   "mimetype": "text/x-python",
   "name": "python",
   "nbconvert_exporter": "python",
   "pygments_lexer": "ipython3",
   "version": "3.10.4"
  },
  "orig_nbformat": 4
 },
 "nbformat": 4,
 "nbformat_minor": 2
}
